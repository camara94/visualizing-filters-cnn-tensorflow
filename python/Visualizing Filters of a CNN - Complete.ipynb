{
 "cells": [
  {
   "cell_type": "markdown",
   "metadata": {},
   "source": [
    "# Visualizing Filters of a Convolutional Neural Network"
   ]
  },
  {
   "cell_type": "markdown",
   "metadata": {},
   "source": [
    "## Task 2: Downloading the Model"
   ]
  },
  {
   "cell_type": "code",
   "execution_count": null,
   "metadata": {},
   "outputs": [],
   "source": [
    "%matplotlib inline\n",
    "\n",
    "import tensorflow as tf\n",
    "import matplotlib.pyplot as plt\n",
    "import random\n",
    "\n",
    "print('Using TensorFlow', tf.__version__)"
   ]
  },
  {
   "cell_type": "code",
   "execution_count": null,
   "metadata": {},
   "outputs": [],
   "source": [
    "model = tf.keras.applications.vgg16.VGG16(\n",
    "    include_top=False,\n",
    "    weights='imagenet',\n",
    "    input_shape=(96, 96, 3)\n",
    ")\n",
    "\n",
    "model.summary()"
   ]
  },
  {
   "cell_type": "markdown",
   "metadata": {},
   "source": [
    "## Task 3: Get Layer Output"
   ]
  },
  {
   "cell_type": "code",
   "execution_count": null,
   "metadata": {},
   "outputs": [],
   "source": [
    "def get_submodel(layer_name):\n",
    "    return tf.keras.models.Model(\n",
    "        model.input,\n",
    "        model.get_layer(layer_name).output\n",
    "    )\n",
    "\n",
    "get_submodel('block1_conv2').summary()"
   ]
  },
  {
   "cell_type": "markdown",
   "metadata": {},
   "source": [
    "## Task 4: Image Visualization"
   ]
  },
  {
   "cell_type": "code",
   "execution_count": null,
   "metadata": {},
   "outputs": [],
   "source": [
    "def plot_image(image, title='random image'):\n",
    "    image = image - tf.math.reduce_min(image)\n",
    "    image = image / tf.math.reduce_max(image)\n",
    "    plt.imshow(image)\n",
    "    plt.title(title)\n",
    "    plt.xticks([])\n",
    "    plt.yticks([])\n",
    "    plt.show()"
   ]
  },
  {
   "cell_type": "code",
   "execution_count": null,
   "metadata": {},
   "outputs": [],
   "source": [
    "image = tf.random.uniform((96, 96, 3), minval=-0.5, maxval=0.5)\n",
    "plot_image(image)"
   ]
  },
  {
   "cell_type": "markdown",
   "metadata": {},
   "source": [
    "## Task 5: Training Loop"
   ]
  },
  {
   "cell_type": "code",
   "execution_count": null,
   "metadata": {},
   "outputs": [],
   "source": [
    "def visualize_filter(layer_name, lr=20, iters=50, f_index=None):\n",
    "    submodel = get_submodel(layer_name)\n",
    "    \n",
    "    num_filters = submodel.output.shape[-1]\n",
    "\n",
    "    if not f_index:\n",
    "        f_index = random.randint(0, num_filters - 1)\n",
    "    \n",
    "    assert num_filters > f_index, f'f_index ({f_index}) >= num_filters ({num_filters})'\n",
    "\n",
    "    print(f'Maximizing image for layer {layer_name} and filter {f_index}')\n",
    "\n",
    "    image = tf.random.uniform((96, 96, 3), minval=-0.5, maxval=0.5)\n",
    "\n",
    "    for i in range(0, iters):\n",
    "        with tf.GradientTape() as tape:\n",
    "            tape.watch(image)\n",
    "            output = submodel(tf.expand_dims(image, axis=0))[:,:,:,f_index]\n",
    "            loss = tf.math.reduce_mean(output)\n",
    "        grads = tape.gradient(loss, image)\n",
    "        grads = tf.math.l2_normalize(grads)\n",
    "        image += grads * lr\n",
    "\n",
    "    plot_image(image, f'{layer_name} ({f_index})')"
   ]
  },
  {
   "cell_type": "markdown",
   "metadata": {},
   "source": [
    "## Task 6: Final Results"
   ]
  },
  {
   "cell_type": "code",
   "execution_count": null,
   "metadata": {},
   "outputs": [],
   "source": [
    "print([layer.name for layer in model.layers])"
   ]
  },
  {
   "cell_type": "code",
   "execution_count": null,
   "metadata": {},
   "outputs": [],
   "source": [
    "layer_name = 'block4_conv2' #@param []\n",
    "visualize_filter(layer_name=layer_name)"
   ]
  },
  {
   "cell_type": "code",
   "execution_count": null,
   "metadata": {},
   "outputs": [],
   "source": []
  }
 ],
 "metadata": {
  "kernelspec": {
   "display_name": "Python 3",
   "language": "python",
   "name": "python3"
  },
  "language_info": {
   "codemirror_mode": {
    "name": "ipython",
    "version": 3
   },
   "file_extension": ".py",
   "mimetype": "text/x-python",
   "name": "python",
   "nbconvert_exporter": "python",
   "pygments_lexer": "ipython3",
   "version": "3.8.5"
  }
 },
 "nbformat": 4,
 "nbformat_minor": 4
}